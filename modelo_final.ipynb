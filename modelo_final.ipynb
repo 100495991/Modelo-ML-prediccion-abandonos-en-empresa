{
 "cells": [
  {
   "cell_type": "code",
   "execution_count": 15,
   "metadata": {},
   "outputs": [
    {
     "name": "stdout",
     "output_type": "stream",
     "text": [
      "prediccion\n",
      "No     1229\n",
      "Yes     241\n",
      "Name: count, dtype: int64\n",
      "prediccion\n",
      "No     83.605442\n",
      "Yes    16.394558\n",
      "Name: count, dtype: float64\n"
     ]
    }
   ],
   "source": [
    "import numpy as np\n",
    "import pandas as pd\n",
    "from pickle import load\n",
    "\n",
    "data_path = 'attrition_competition_10.csv.gz'\n",
    "\n",
    "data = pd.read_csv(data_path, compression='gzip', sep = ',')\n",
    "\n",
    "\n",
    "# 1. Comprobar columnas constantes\n",
    "constantes = ['EmployeeCount', 'Over18', 'StandardHours']\n",
    "\n",
    "# 2. Comprobar columnas ID\n",
    "columnas_id = ['EmployeeID']\n",
    "\n",
    "data = data.drop(columns=constantes + columnas_id)\n",
    "\n",
    "\n",
    "with open('modelo_final_10.pkl', 'rb') as f:\n",
    "    modelo = load(f)\n",
    "\n",
    "# 3. Predecir\n",
    "predicciones = modelo.predict(data)\n",
    "data['prediccion'] = predicciones\n",
    "data['prediccion'] = data['prediccion'].astype(str)\n",
    "# 4. Guardar resultados\n",
    "data['prediccion'].to_csv('predicciones_10.csv')\n",
    "\n",
    "prediction = pd.read_csv('predicciones_10.csv', sep = ',')\n",
    "\n",
    "counts = prediction['prediccion'].value_counts()\n",
    "\n",
    "# Calcular el porcentaje de cada valor\n",
    "percentages = (counts / len(prediction)) * 100\n",
    "\n",
    "print(counts)         # Muestra el conteo de Yes y No\n",
    "print(percentages)    # Muestra el porcentaje de Yes y No"
   ]
  }
 ],
 "metadata": {
  "kernelspec": {
   "display_name": "Python 3",
   "language": "python",
   "name": "python3"
  },
  "language_info": {
   "codemirror_mode": {
    "name": "ipython",
    "version": 3
   },
   "file_extension": ".py",
   "mimetype": "text/x-python",
   "name": "python",
   "nbconvert_exporter": "python",
   "pygments_lexer": "ipython3",
   "version": "3.11.5"
  }
 },
 "nbformat": 4,
 "nbformat_minor": 2
}
